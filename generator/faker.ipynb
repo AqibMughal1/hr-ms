{
 "cells": [
  {
   "cell_type": "code",
   "execution_count": 1,
   "metadata": {},
   "outputs": [],
   "source": [
    "import pyodbc"
   ]
  },
  {
   "cell_type": "code",
   "execution_count": 14,
   "metadata": {},
   "outputs": [],
   "source": [
    "pd_cxn_str = f\"DRIVER=ODBC Driver 17 for SQL Server;SERVER=HP-NOTEBOOK;DATABASE=hr-ms;Trusted_Connection=yes;\"\n",
    "pd_cxn = pyodbc.connect(pd_cxn_str)\n",
    "cursor = pd_cxn.cursor()"
   ]
  },
  {
   "cell_type": "code",
   "execution_count": 15,
   "metadata": {},
   "outputs": [],
   "source": [
    "stmt = \"select org_id, org_name from organizations\"\n",
    "\n",
    "cursor.execute(stmt)\n",
    "orgs = cursor.fetchall()\n",
    "\n",
    "emps = {}\n",
    "\n",
    "for id, name in orgs:\n",
    "    stmt = f\"select emp_id from employees where org_id = {id}\"\n",
    "    cursor.execute(stmt)\n",
    "    emps[id] = cursor.fetchall()"
   ]
  },
  {
   "cell_type": "code",
   "execution_count": 4,
   "metadata": {},
   "outputs": [
    {
     "data": {
      "text/plain": [
       "10"
      ]
     },
     "execution_count": 4,
     "metadata": {},
     "output_type": "execute_result"
    }
   ],
   "source": [
    "len(emps.keys())"
   ]
  },
  {
   "cell_type": "code",
   "execution_count": 5,
   "metadata": {},
   "outputs": [
    {
     "data": {
      "text/plain": [
       "52"
      ]
     },
     "execution_count": 5,
     "metadata": {},
     "output_type": "execute_result"
    }
   ],
   "source": [
    "len(emps[106])"
   ]
  },
  {
   "cell_type": "code",
   "execution_count": 6,
   "metadata": {},
   "outputs": [
    {
     "data": {
      "text/plain": [
       "[(106, 'Sauer, Robel and Kerluke'),\n",
       " (107, 'Koch and Sons'),\n",
       " (108, 'Howell-King'),\n",
       " (109, 'Schinner and Sons'),\n",
       " (110, 'Larson-Murphy'),\n",
       " (111, 'Romaguera Group'),\n",
       " (112, 'Bartell, Auer and Cremin'),\n",
       " (113, 'Senger-Kautzer'),\n",
       " (114, 'Haley, Grant and Yost'),\n",
       " (115, 'Schroeder-Schinner')]"
      ]
     },
     "execution_count": 6,
     "metadata": {},
     "output_type": "execute_result"
    }
   ],
   "source": [
    "orgs"
   ]
  },
  {
   "cell_type": "code",
   "execution_count": 7,
   "metadata": {},
   "outputs": [],
   "source": [
    "import datetime\n",
    "import random"
   ]
  },
  {
   "cell_type": "code",
   "execution_count": 8,
   "metadata": {},
   "outputs": [],
   "source": [
    "start_time = datetime.time(hour=8)\n",
    "end_time = datetime.time(hour=12)\n",
    "\n",
    "time_ins= []\n",
    "for i in range(20):\n",
    "    hour = random.randint(start_time.hour, end_time.hour)\n",
    "    minute = random.randint(0, 59)\n",
    "    time_ins.append(datetime.time(hour=hour, minute=minute))\n"
   ]
  },
  {
   "cell_type": "code",
   "execution_count": 9,
   "metadata": {},
   "outputs": [],
   "source": [
    "start_time = datetime.time(hour=12)\n",
    "end_time = datetime.time(hour=17)\n",
    "\n",
    "time_outs= []\n",
    "for i in range(20):\n",
    "    hour = random.randint(start_time.hour, end_time.hour)\n",
    "    minute = random.randint(0, 59)\n",
    "    time_outs.append(datetime.time(hour=hour, minute=minute))\n"
   ]
  },
  {
   "cell_type": "code",
   "execution_count": 13,
   "metadata": {},
   "outputs": [],
   "source": [
    "# CREATE TABLE [dbo].[attendance]\n",
    "# (\n",
    "#   [atd_id] INT IDENTITY(100, 1) NOT NULL PRIMARY KEY,\n",
    "#   [org_id] INT NOT NULL FOREIGN KEY REFERENCES [dbo].[organizations]([org_id]),\n",
    "#   [atd_date] DATE NOT NULL,\n",
    "# )\n",
    "\n",
    "\n",
    "\n",
    "for id, name in orgs:\n",
    "    date_ = datetime.date(2020, 1, 1)\n",
    "    for i in range(1000):\n",
    "        stmt = f\"insert into attendance (org_id, atd_date) values ({id}, '{str(date_)}')\"\n",
    "        date_ += datetime.timedelta(days=1)\n",
    "        cursor.execute(stmt)\n",
    "        cursor.commit()\n",
    "        \n",
    "        # get the id of the attendance record just inserted\n",
    "        stmt = \"select @@IDENTITY\"\n",
    "        cursor.execute(stmt)\n",
    "        atd_id = cursor.fetchone()[0]\n",
    "        \n",
    "        for emp in emps[id]:\n",
    "            stmt = f\"insert into attendanceDetails (atd_id, emp_id, time_in, time_out) values ({atd_id}, {emp[0]}, '{random.choice(time_ins)}', '{random.choice(time_outs)}')\"\n",
    "            cursor.execute(stmt)\n",
    "            cursor.commit()"
   ]
  },
  {
   "cell_type": "code",
   "execution_count": 11,
   "metadata": {},
   "outputs": [],
   "source": [
    "for id, name in orgs:\n",
    "    stmt = f\"select count(*) from attendance where org_id = {id}\"\n",
    "    cursor.execute(stmt)\n",
    "    print(cursor.fetchone()[0])"
   ]
  }
 ],
 "metadata": {
  "kernelspec": {
   "display_name": ".venv",
   "language": "python",
   "name": "python3"
  },
  "language_info": {
   "codemirror_mode": {
    "name": "ipython",
    "version": 3
   },
   "file_extension": ".py",
   "mimetype": "text/x-python",
   "name": "python",
   "nbconvert_exporter": "python",
   "pygments_lexer": "ipython3",
   "version": "3.11.0"
  },
  "orig_nbformat": 4
 },
 "nbformat": 4,
 "nbformat_minor": 2
}
